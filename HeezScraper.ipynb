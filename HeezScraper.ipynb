{
 "cells": [
  {
   "cell_type": "code",
   "execution_count": 10,
   "metadata": {
    "collapsed": false
   },
   "outputs": [],
   "source": [
    "import soundcloud\n",
    "import urllib\n",
    "import re\n",
    "import csv\n",
    "\n",
    "# create a client object with your app credentials\n",
    "client = soundcloud.Client(client_id='0c3e46a4e52010f1f420c445d6d93f96')\n",
    "\n",
    "\n",
    "xhr = urllib.urlopen('https://api-v2.soundcloud.com/tracks/278360851/related?user_id=2765572&client_id=02gUJC0hH2ct1EGOcYXQIzRFU91c72Ea&limit=10&offset=0&linked_partitioning=1&app_version=1471968407')\n",
    "xhrtext = xhr.read()\n",
    "#print xhrtext\n",
    "\n",
    "#regex = b'\"id\":(\\d{9}),\"kind\":\"track\",'\n",
    "regex = b'\"permalink\":\".+?\",\"permalink_url\":\"(.{0,70})\",\"playback_count\"'\n",
    "pattern = re.compile(regex)\n",
    "urls = re.findall(pattern,xhrtext)"
   ]
  },
  {
   "cell_type": "code",
   "execution_count": 11,
   "metadata": {
    "collapsed": false
   },
   "outputs": [],
   "source": [
    "def checkBase(url):\n",
    "    contains = False\n",
    "    f = open('user_database.csv','rb')\n",
    "    for line in f:\n",
    "        if(url[0]+'\\n'==line or url[0]+\"\\r\\n\"==line or url[0]==line):\n",
    "            contains = True\n",
    "    return contains\n",
    "    f.close()"
   ]
  },
  {
   "cell_type": "code",
   "execution_count": 12,
   "metadata": {
    "collapsed": false
   },
   "outputs": [],
   "source": [
    "def recursiveFunct(tempUrl, userUrls, foo):\n",
    "    if(foo):\n",
    "        repostPage = client.get('/resolve',url = tempUrl)\n",
    "        json = urllib.urlopen('https://api.soundcloud.com/e1/tracks/' + str(repostPage.id) + '/reposters?client_id=02gUJC0hH2ct1EGOcYXQIzRFU91c72Ea&limit=6&offset=0&linked_partitioning=1&app_version=1471867920')\n",
    "        jsontext = json.read()\n",
    "    else:\n",
    "        json = urllib.urlopen(tempUrl)\n",
    "        jsontext = json.read()\n",
    "    hasChild = bool(re.search(\"\\\"next_href\\\":\", jsontext))\n",
    "    if(hasChild):\n",
    "        regex = b'\"next_href\":\"(.+?)\",'\n",
    "        pattern = re.compile(regex)\n",
    "        nextUrl =re.findall(pattern, jsontext) #gets the nextUrl\n",
    "        tempUrl = nextUrl[0]\n",
    "        #print(tempUrl)\n",
    "        regex = b'\"permalink_url\":\"(.+?)\",'\n",
    "        pattern = re.compile(regex)\n",
    "        userUrls.append(re.findall(pattern,jsontext))\n",
    "        return recursiveFunct(tempUrl, userUrls, False)\n",
    "    else:\n",
    "        regex = b'\"permalink_url\":\"(.+?)\",'\n",
    "        pattern = re.compile(regex)\n",
    "        userUrls.append(re.findall(pattern,jsontext))\n",
    "        i=0\n",
    "        return userUrls"
   ]
  },
  {
   "cell_type": "code",
   "execution_count": 13,
   "metadata": {
    "collapsed": false
   },
   "outputs": [],
   "source": [
    "#Function to get the list of urls automatically\n",
    "def recursiveFunct2(tempUrl, userUrls, foo): #tempurl passed in is simply the url of the related page\n",
    "    if(foo):\n",
    "        relatedPage = client.get('/resolve',url = tempUrl)\n",
    "        json = urllib.urlopen('https://api-v2.soundcloud.com/tracks/' + str(relatedPage.id) + '/related?user_id=2765572&client_id=02gUJC0hH2ct1EGOcYXQIzRFU91c72Ea&limit=10&offset=0&linked_partitioning=1&app_version=14')\n",
    "        jsontext = json.read()\n",
    "    else:\n",
    "        json = urllib.urlopen(tempUrl)\n",
    "        jsontext = json.read()\n",
    "    hasChild = bool(re.search(\"\\\"next_href\\\":\", jsontext))\n",
    "    if(hasChild):\n",
    "        regex = b'\"next_href\":\"(.+?)\",'\n",
    "        pattern = re.compile(regex)\n",
    "        nextUrl =re.findall(pattern, jsontext) #gets the nextUrl\n",
    "        tempUrl = nextUrl[0]\n",
    "        #print(tempUrl)\n",
    "        regex = b'\"permalink\":\".+?\",\"permalink_url\":\"(.{0,70})\",\"playback_count\"'\n",
    "        pattern = re.compile(regex)\n",
    "        userUrls.append(re.findall(pattern,jsontext))\n",
    "        return recursiveFunct2(tempUrl, userUrls, False)\n",
    "    else:\n",
    "        regex = b'\"permalink\":\".+?\",\"permalink_url\":\"(.{0,70})\",\"playback_count\"'\n",
    "        pattern = re.compile(regex)\n",
    "        userUrls.append(re.findall(pattern,jsontext))\n",
    "        i=0\n",
    "        return userUrls"
   ]
  },
  {
   "cell_type": "code",
   "execution_count": 14,
   "metadata": {
    "collapsed": false
   },
   "outputs": [],
   "source": [
    "first = []\n",
    "spotz = recursiveFunct2('https://soundcloud.com/heezdepaula/dancing/recommended', first, True)\n",
    "#print first\n",
    "second = []\n",
    "i=0\n",
    "while(i<len(first)):\n",
    "    j=0\n",
    "    while(j<len(first[i])):\n",
    "        second.append(first[i][j])\n",
    "        j+=1\n",
    "    i+=1\n",
    "#print second\n",
    "urls = second\n",
    "#Done! (Successfully finds all related tracks)\n",
    "\n",
    "final = []"
   ]
  },
  {
   "cell_type": "code",
   "execution_count": 15,
   "metadata": {
    "collapsed": true
   },
   "outputs": [],
   "source": [
    "i=48 #if gets stuck here, simply change this to the next iteration and continue)\n",
    "\n",
    "# ^ Paso numero 1 NANO: aqui cambia este numero a zero al principio de cada scrape\n",
    "\n",
    "                                  ###\n",
    "                                    #\n",
    "                                    #\n",
    "                                    #\n",
    "                                    #\n",
    "                                  #####\n",
    "\n",
    "#------------------------- !!!!!!!!!!!!!!!!!!!!!!!!----------------------------\n"
   ]
  },
  {
   "cell_type": "code",
   "execution_count": 16,
   "metadata": {
    "collapsed": false
   },
   "outputs": [
    {
     "name": "stdout",
     "output_type": "stream",
     "text": [
      "48\n",
      "[['-----https://soundcloud.com/adryanna49/i-already-know-------']]\n"
     ]
    }
   ],
   "source": [
    "while(i<len(urls)):\n",
    "    print(i)\n",
    "    users = []\n",
    "    bar = recursiveFunct(urls[i],users,True)\n",
    "    temp = []\n",
    "    temp2 = []\n",
    "    temp.append(\"-----\"+urls[i]+\"-------\")\n",
    "    temp2.append(temp)\n",
    "    final.append(temp2)\n",
    "    print temp2\n",
    "    final.append(bar)\n",
    "    i+=1"
   ]
  },
  {
   "cell_type": "code",
   "execution_count": 17,
   "metadata": {
    "collapsed": false
   },
   "outputs": [],
   "source": [
    "i=0\n",
    "j=0\n",
    "k=0\n",
    "final2 = []\n",
    "while(i<len(final)):\n",
    "    j=0\n",
    "    while(j<len(final[i])):\n",
    "        k=0\n",
    "        while(k<len(final[i][j])):\n",
    "            final2.append(final[i][j][k])\n",
    "            k+=1\n",
    "        j+=1\n",
    "    i+=1\n",
    "        \n",
    "final3 = []\n",
    "i=0\n",
    "while(i<len(final2)):\n",
    "    cheese = final2[i]\n",
    "    temp = []\n",
    "    temp.append(cheese)\n",
    "    final3.append(temp)\n",
    "    i=i+1"
   ]
  },
  {
   "cell_type": "code",
   "execution_count": 18,
   "metadata": {
    "collapsed": false
   },
   "outputs": [],
   "source": [
    "fileName = \"9-1 Soundcloud Scrape Heez.csv\"\n",
    "\n",
    "            # Paso numero 2 NANO: ^ aqui cambia la fecha\n",
    "\n",
    "#-----------------------------------------------------\n",
    "\n",
    "                     ######\n",
    "                    #      #\n",
    "                          #\n",
    "                         #\n",
    "                     ####\n",
    "                    #\n",
    "                    #\n",
    "                    ########"
   ]
  },
  {
   "cell_type": "code",
   "execution_count": 20,
   "metadata": {
    "collapsed": false
   },
   "outputs": [
    {
     "name": "stdout",
     "output_type": "stream",
     "text": [
      "['-----https://soundcloud.com/adryanna49/i-already-know-------']\n",
      "['http://soundcloud.com/brian-bezerra-495799946']\n",
      "['http://soundcloud.com/user-595875561']\n",
      "['http://soundcloud.com/nataliatwardowska']\n",
      "['http://soundcloud.com/katiezee']\n",
      "Found repeat http://soundcloud.com/najbass\n",
      "['http://soundcloud.com/user-823277314']\n",
      "Found repeat http://soundcloud.com/mistalee\n",
      "['http://soundcloud.com/aftrs_music']\n",
      "['http://soundcloud.com/oliver-gillmann']\n",
      "Found repeat http://soundcloud.com/user-845348145\n",
      "Found repeat http://soundcloud.com/diamonddeposits\n",
      "Found repeat http://soundcloud.com/ethereal-search\n",
      "Found repeat http://soundcloud.com/fadeproof-1\n",
      "['http://soundcloud.com/skaggs']\n",
      "Found repeat http://soundcloud.com/jackingboxx\n",
      "Found repeat http://soundcloud.com/thebeatforest\n",
      "Found repeat http://soundcloud.com/bkusuma\n",
      "['http://soundcloud.com/fanumfm']\n",
      "['http://soundcloud.com/fringemusicfix']\n",
      "['http://soundcloud.com/fer-canela']\n",
      "Found repeat http://soundcloud.com/qualitysoundyt\n",
      "Found repeat http://soundcloud.com/jarrettk3\n",
      "Found repeat http://soundcloud.com/solizhe\n",
      "Found repeat http://soundcloud.com/jjjasia\n",
      "Found repeat http://soundcloud.com/sea-jay21\n",
      "Found repeat http://soundcloud.com/zapetlone\n",
      "Found repeat http://soundcloud.com/rdalpos\n",
      "Found repeat http://soundcloud.com/panodmuzykipl\n",
      "['http://soundcloud.com/ohmmusicofficial']\n",
      "Found repeat http://soundcloud.com/canalelectrorock\n",
      "Found repeat http://soundcloud.com/indietronicaoffical\n",
      "Found repeat http://soundcloud.com/agnieszka-maj-4\n",
      "Found repeat http://soundcloud.com/solizhe1\n",
      "Found repeat http://soundcloud.com/indieberlin\n",
      "Found repeat http://soundcloud.com/ethereal-streams\n",
      "Found repeat http://soundcloud.com/whatsthattune\n",
      "['http://soundcloud.com/midnightwalker87']\n",
      "Found repeat http://soundcloud.com/nielsbruwier\n",
      "Found repeat http://soundcloud.com/indiehometown\n",
      "['http://soundcloud.com/djstelar']\n",
      "['http://soundcloud.com/laidbackvibes']\n",
      "['http://soundcloud.com/purplemelonmusic']\n"
     ]
    }
   ],
   "source": [
    "resultFile = open(fileName,'wb') #CHANGE DATE HERE!!!!!\n",
    "wr = csv.writer(resultFile, lineterminator='\\n')\n",
    "\n",
    "addfile = open(\"user_database.csv\", 'a')\n",
    "addfile.write(\"--------------------------\"+fileName+'\\n')\n",
    "addfile.close()\n",
    "\n",
    "i=0\n",
    "while i<len(final3):\n",
    "    if(checkBase(final3[i])==False or final3[i][0][0]=='-'):\n",
    "        print final3[i]\n",
    "        wr.writerow(final3[i])\n",
    "        addfile = open(\"user_database.csv\", 'a')\n",
    "        addfile.write(final3[i][0]+'\\n')\n",
    "        addfile.close()\n",
    "    else: \n",
    "        print \"Found repeat\", final3[i][0]\n",
    "    i+=1\n",
    "\n",
    "resultFile.close()"
   ]
  },
  {
   "cell_type": "code",
   "execution_count": 61,
   "metadata": {
    "collapsed": false
   },
   "outputs": [],
   "source": [
    "#FULL PROGRAM COMPLETED"
   ]
  },
  {
   "cell_type": "code",
   "execution_count": null,
   "metadata": {
    "collapsed": true
   },
   "outputs": [],
   "source": []
  },
  {
   "cell_type": "code",
   "execution_count": null,
   "metadata": {
    "collapsed": true
   },
   "outputs": [],
   "source": []
  }
 ],
 "metadata": {
  "kernelspec": {
   "display_name": "Python 2",
   "language": "python",
   "name": "python2"
  },
  "language_info": {
   "codemirror_mode": {
    "name": "ipython",
    "version": 2
   },
   "file_extension": ".py",
   "mimetype": "text/x-python",
   "name": "python",
   "nbconvert_exporter": "python",
   "pygments_lexer": "ipython2",
   "version": "2.7.12"
  }
 },
 "nbformat": 4,
 "nbformat_minor": 1
}
